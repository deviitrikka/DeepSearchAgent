{
 "cells": [
  {
   "cell_type": "markdown",
   "metadata": {},
   "source": [
    "# Deep Research AI Agentic System\n",
    "    This notebook implements a multi-agent system for deep research with:\n",
    "    1. Research Agent - Focuses on data collection and information gathering\n",
    "    2. Answer Agent - Synthesizes information and drafts coherent answers"
   ]
  },
  {
   "cell_type": "code",
   "execution_count": 1,
   "metadata": {},
   "outputs": [],
   "source": [
    "from langchain_community.tools.tavily_search import TavilySearchResults\n",
    "from langchain_groq import ChatGroq\n",
    "from langgraph.graph import StateGraph, START, END\n",
    "from langgraph.prebuilt import ToolNode\n",
    "from langchain_core.messages import HumanMessage, AnyMessage, AIMessage\n",
    "from typing_extensions import Annotated\n",
    "from langgraph.graph.message import add_messages\n",
    "from typing import TypedDict"
   ]
  },
  {
   "cell_type": "markdown",
   "metadata": {},
   "source": [
    "#### loading environment variables"
   ]
  },
  {
   "cell_type": "code",
   "execution_count": 2,
   "metadata": {},
   "outputs": [],
   "source": [
    "from dotenv import load_dotenv\n",
    "import os\n",
    "load_dotenv()\n",
    "os.environ[\"TAVILY_API_KEY\"] = os.getenv(\"TAVILY_API_KEY\")\n",
    "os.environ[\"GROQ_API_KEY\"] = os.getenv(\"GROQ_API_KEY\")\n",
    "if os.getenv(\"TAVILY_API_KEY\") is None:\n",
    "    raise ValueError(\"TAVILY_API_KEY is not set\")\n",
    "if os.getenv(\"GROQ_API_KEY\") is None:\n",
    "    raise ValueError(\"GROQ_API_KEY is not set\")\n"
   ]
  },
  {
   "cell_type": "markdown",
   "metadata": {},
   "source": [
    "#### building arxiv and wikipedia tools for in-depth research"
   ]
  },
  {
   "cell_type": "code",
   "execution_count": 3,
   "metadata": {},
   "outputs": [],
   "source": [
    "from langchain_community.tools import ArxivQueryRun, WikipediaQueryRun\n",
    "from langchain_community.utilities import WikipediaAPIWrapper, ArxivAPIWrapper\n",
    "\n",
    "arxiv_wrapper = ArxivAPIWrapper(top_k_results=2, doc_content_chars_max=100)\n",
    "wikipedia_wrapper = WikipediaAPIWrapper(top_k_results=2, doc_content_chars_max=100)\n",
    "\n",
    "arxiv_tool = ArxivQueryRun(api_wrapper=arxiv_wrapper, description=\"Search for papers on a given topic\")\n",
    "wikipedia_tool = WikipediaQueryRun(api_wrapper=wikipedia_wrapper)"
   ]
  },
  {
   "cell_type": "markdown",
   "metadata": {},
   "source": [
    "#### building tavily tool for scraping websites"
   ]
  },
  {
   "cell_type": "code",
   "execution_count": 4,
   "metadata": {},
   "outputs": [],
   "source": [
    "tavily_tool = TavilySearchResults(max_results=5)\n",
    "llm = ChatGroq(model_name=\"llama3-8b-8192\", temperature=0)\n",
    "tools = [arxiv_tool, wikipedia_tool, tavily_tool]\n",
    "llm_with_tools = llm.bind_tools(tools)"
   ]
  },
  {
   "cell_type": "markdown",
   "metadata": {},
   "source": [
    "### defining agent state and the agents"
   ]
  },
  {
   "cell_type": "code",
   "execution_count": 5,
   "metadata": {},
   "outputs": [],
   "source": [
    "class AgentState(TypedDict):\n",
    "    messages: Annotated[list[AnyMessage], add_messages]\n",
    "\n",
    "# Research Agent: Crawls websites for online information\n",
    "def research_agent(state: AgentState):\n",
    "    query_text = state[\"messages\"][-1].content  # Extract text content from message\n",
    "    response = tavily_tool.invoke({\"query\": query_text})  # Fetch data using Tavily\n",
    "\n",
    "    # Ensure the response is wrapped in an AIMessage\n",
    "    return {\"messages\": [AIMessage(content=str(response))]}\n",
    "\n",
    "# Answer Drafting Agent: Processes research data and generates a meaningful response\n",
    "def answer_drafting_agent(state: AgentState):\n",
    "    research_data = state[\"messages\"][-1].content  # Extract text content from message\n",
    "    response = llm.invoke(f\"Draft an answer based on the provided research data: {research_data}\")  # Pass as raw string (not HumanMessage)\n",
    "    return {\"messages\": [AIMessage(content=str(response))]}"
   ]
  },
  {
   "cell_type": "markdown",
   "metadata": {},
   "source": [
    "#### building langgraph"
   ]
  },
  {
   "cell_type": "code",
   "execution_count": 6,
   "metadata": {},
   "outputs": [],
   "source": [
    "# Build LangGraph\n",
    "build_graph = StateGraph(AgentState)\n",
    "build_graph.add_node(\"research_agent\", research_agent)\n",
    "build_graph.add_node(\"answer_drafting_agent\", answer_drafting_agent)\n",
    "build_graph.add_node(\"tools\", ToolNode([tavily_tool]))\n",
    "\n",
    "# Define execution flow\n",
    "build_graph.add_edge(START, \"research_agent\")\n",
    "build_graph.add_edge(\"research_agent\", \"answer_drafting_agent\")\n",
    "build_graph.add_edge(\"answer_drafting_agent\", END)\n",
    "\n",
    "graph = build_graph.compile()"
   ]
  },
  {
   "cell_type": "markdown",
   "metadata": {},
   "source": [
    "#### displaying graph"
   ]
  },
  {
   "cell_type": "code",
   "execution_count": 7,
   "metadata": {},
   "outputs": [
    {
     "name": "stdout",
     "output_type": "stream",
     "text": [
      "      +-----------+        \n",
      "      | __start__ |        \n",
      "      +-----------+        \n",
      "            *              \n",
      "            *              \n",
      "            *              \n",
      "    +----------------+     \n",
      "    | research_agent |     \n",
      "    +----------------+     \n",
      "            *              \n",
      "            *              \n",
      "            *              \n",
      "+-----------------------+  \n",
      "| answer_drafting_agent |  \n",
      "+-----------------------+  \n",
      "            *              \n",
      "            *              \n",
      "            *              \n",
      "       +---------+         \n",
      "       | __end__ |         \n",
      "       +---------+         \n",
      "None\n"
     ]
    }
   ],
   "source": [
    "print(graph.get_graph().print_ascii())"
   ]
  },
  {
   "cell_type": "markdown",
   "metadata": {},
   "source": [
    "#### invoking query"
   ]
  },
  {
   "cell_type": "code",
   "execution_count": 8,
   "metadata": {},
   "outputs": [],
   "source": [
    "from langchain_core.messages import HumanMessage\n",
    "messages = graph.invoke({\"messages\": \"hey my name is jay, tell me recent news on quantum computing\"})\n"
   ]
  },
  {
   "cell_type": "markdown",
   "metadata": {},
   "source": [
    "printing output"
   ]
  },
  {
   "cell_type": "code",
   "execution_count": 9,
   "metadata": {},
   "outputs": [
    {
     "name": "stdout",
     "output_type": "stream",
     "text": [
      "[HumanMessage(content='hey my name is jay, tell me recent news on quantum computing', additional_kwargs={}, response_metadata={}, id='fe84f628-95a5-44b3-91df-a0cf806cf8ea'), AIMessage(content='[{\\'title\\': \\'Quantum Computers News - ScienceDaily\\', \\'url\\': \\'https://www.sciencedaily.com/news/computers_math/quantum_computers/\\', \\'content\\': \\'Wednesday, February 19, 2025\\\\n\\\\nTuesday, February 18, 2025\\\\n\\\\nFriday, February 14, 2025\\\\n\\\\nTuesday, February 11, 2025\\\\n\\\\nMonday, February 10, 2025\\\\n\\\\nFriday, February 7, 2025\\\\n\\\\nWednesday, February 5, 2025\\\\n\\\\nWednesday, January 29, 2025\\\\n\\\\nTuesday, January 28, 2025\\\\n\\\\nMonday, January 27, 2025\\\\n\\\\nFriday, January 24, 2025\\\\n\\\\nThursday, January 23, 2025\\\\n\\\\nThursday, January 16, 2025\\\\n\\\\nTuesday, January 14, 2025\\\\n\\\\nMonday, January 13, 2025\\\\n\\\\nThursday, January 9, 2025\\\\n\\\\nWednesday, January 8, 2025\\\\n\\\\nMonday, January 6, 2025 [...] Thursday, October 31, 2024\\\\n\\\\nWednesday, October 30, 2024\\\\n\\\\nMonday, October 28, 2024\\\\n\\\\nThursday, October 24, 2024\\\\n\\\\nThursday, October 17, 2024\\\\n\\\\nWednesday, October 16, 2024\\\\n\\\\nFriday, October 11, 2024\\\\n\\\\nWednesday, October 9, 2024\\\\n\\\\nTuesday, October 8, 2024\\\\n\\\\nThursday, October 3, 2024\\\\n\\\\nTuesday, October 1, 2024\\\\n\\\\nMonday, September 30, 2024\\\\n\\\\nFriday, September 20, 2024\\\\n\\\\nWednesday, September 18, 2024\\\\n\\\\nTuesday, September 17, 2024\\\\n\\\\nMonday, September 16, 2024\\\\n\\\\nFriday, September 13, 2024 [...] Friday, December 20, 2024\\\\n\\\\nThursday, December 19, 2024\\\\n\\\\nTuesday, December 17, 2024\\\\n\\\\nTuesday, December 10, 2024\\\\n\\\\nFriday, December 6, 2024\\\\n\\\\nWednesday, December 4, 2024\\\\n\\\\nMonday, December 2, 2024\\\\n\\\\nWednesday, November 27, 2024\\\\n\\\\nTuesday, November 26, 2024\\\\n\\\\nThursday, November 21, 2024\\\\n\\\\nTuesday, November 19, 2024\\\\n\\\\nSaturday, November 16, 2024\\\\n\\\\nWednesday, November 13, 2024\\\\n\\\\nTuesday, November 12, 2024\\\\n\\\\nMonday, November 11, 2024\\\\n\\\\nTuesday, November 5, 2024\\\\n\\\\nMonday, November 4, 2024\\', \\'score\\': 0.7060491}, {\\'title\\': \\'Quantum computing news (98% Trump-free) - Shtetl-Optimized\\', \\'url\\': \\'https://scottaaronson.blog/?p=2996\\', \\'content\\': \\'(1) Apparently Microsoft has decided to make a major investment in building\\\\xa0topological quantum computers, which will include hiring Charles Marcus and Matthias Troyer among others. \\\\xa0See here for their blog post, and here for the New York Times piece. \\\\xa0In the race to implement\\\\xa0QC among the established\\\\xa0corporate labs, Microsoft thus joins the Martinis group at Google, as well as\\\\xa0the IBM group at T. J. Watson—though both Google and IBM are focused on superconducting\\\\xa0qubits, rather than the more [...] e.g. http://www.nature.com/nnano/journal/v9/n1/full/nnano.2013.267.html, so one needs to take care that one is not cherry picking for signatures of “Majorana” zero modes. Until some one demonstrates braiding, or maybe even 4pi periodic Josephson current, I will remain a skeptic. [...] (3) As many of you will have seen, my former MIT colleagues, Lior Eldar and Peter Shor, recently posted an arXiv preprint\\\\xa0claiming a\\\\xa0bombshell result: namely, a\\\\xa0polynomial-time quantum algorithm to solve a variant of the Closest Vector Problem in lattices. \\\\xa0Their claimed algorithm\\\\xa0wouldn’t yet\\\\xa0break lattice-based cryptography, but if the approximation factors could be improved, it would be well on the way to doing so. \\\\xa0This has been one of the most tempting targets for quantum algorithms\\', \\'score\\': 0.66777676}, {\\'title\\': \"Microsoft unveils Majorana 1, the world\\'s first quantum processor ...\", \\'url\\': \\'https://azure.microsoft.com/en-us/blog/quantum/2025/02/19/microsoft-unveils-majorana-1-the-worlds-first-quantum-processor-powered-by-topological-qubits/\\', \\'content\\': \\'Missing: hey jay,\\', \\'score\\': 0.6296157}, {\\'title\\': \\'Quantum computing | Massachusetts Institute of Technology\\', \\'url\\': \\'https://news.mit.edu/topic/quantum-computing\\', \\'content\\': \\'The work on excitons, originating from ultrathin materials, could impact future electronics and establishes a new way to study these particles through a powerful instrument at the Brookhaven National Laboratory.\\\\n\\\\nAugust 1, 2024\\\\n\\\\nRead full story →\\\\n\\\\nTesting spooky action at a distance\\\\n\\\\nA quantum computing research collaboration connects MIT with the University of Copenhagen.\\\\n\\\\nJuly 31, 2024\\\\n\\\\nRead full story →\\\\n\\\\nModular, scalable hardware architecture for a quantum computer [...] A new quantum-system-on-chip enables the efficient control of a large array of qubits, moving toward practical quantum computing.\\\\n\\\\nMay 29, 2024\\\\n\\\\nRead full story →\\\\n\\\\nPhysicists arrange atoms in extremely close proximity\\\\n\\\\nThe technique opens possibilities for exploring exotic states of matter and building new quantum materials.\\\\n\\\\nMay 2, 2024\\\\n\\\\nRead full story →\\\\n\\\\nMIT scientists tune the entanglement structure in an array of qubits [...] New work suggests the ability to create fractionalized electrons known as non-Abelian anyons without a magnetic field, opening new possibilities for basic research and future applications.\\\\n\\\\nNovember 18, 2024\\\\n\\\\nRead full story →\\\\n\\\\nQuantum simulator could help uncover materials for high-performance electronics\\\\n\\\\nBy emulating a magnetic field on a superconducting quantum computer, researchers can probe complex properties of materials.\\\\n\\\\nOctober 30, 2024\\\\n\\\\nRead full story →\\', \\'score\\': 0.6227582}, {\\'title\\': \\'Google Executive Says Quantum Applications Could Arrive in Five ...\\', \\'url\\': \\'https://thequantuminsider.com/2025/03/26/google-executive-says-quantum-applications-could-arrive-in-five-years/\\', \\'content\\': \\'Missing: hey jay,\\', \\'score\\': 0.575517}]', additional_kwargs={}, response_metadata={}, id='6e180c0b-9fe7-4f05-b91a-e0cf20ba93b0'), AIMessage(content='content=\"Based on the provided research data, here is a draft answer:\\\\n\\\\nThe development of quantum computers has been a rapidly advancing field in recent years. According to the data, there have been numerous breakthroughs and advancements in the field, with several companies and institutions making significant investments in the technology.\\\\n\\\\nOne of the most notable developments is the announcement by Microsoft of the world\\'s first quantum processor powered by topological qubits, known as Majorana 1. This breakthrough has the potential to revolutionize the field of quantum computing, as topological qubits are more resistant to errors and can be used to build more powerful and reliable quantum computers.\\\\n\\\\nAnother significant development is the work being done by Google, which has been making rapid progress in the development of its quantum computer. According to a recent article, a Google executive has stated that quantum applications could arrive in as little as five years, which would be a significant milestone in the development of the technology.\\\\n\\\\nIn addition to these breakthroughs, there have been numerous other advancements in the field, including the development of new quantum algorithms and the creation of more powerful and efficient quantum computers. These advancements have the potential to have a significant impact on a wide range of fields, from medicine and finance to materials science and cryptography.\\\\n\\\\nOverall, the data suggests that the development of quantum computers is a rapidly advancing field, with numerous breakthroughs and advancements being made in recent years. As the technology continues to evolve, it is likely to have a significant impact on a wide range of fields and industries.\" additional_kwargs={} response_metadata={\\'token_usage\\': {\\'completion_tokens\\': 303, \\'prompt_tokens\\': 1525, \\'total_tokens\\': 1828, \\'completion_time\\': 0.2525, \\'prompt_time\\': 0.205261522, \\'queue_time\\': 0.477766373, \\'total_time\\': 0.457761522}, \\'model_name\\': \\'llama3-8b-8192\\', \\'system_fingerprint\\': \\'fp_179b0f92c9\\', \\'finish_reason\\': \\'stop\\', \\'logprobs\\': None} id=\\'run-50f383a3-1321-4277-b2ca-1f2211d0db91-0\\' usage_metadata={\\'input_tokens\\': 1525, \\'output_tokens\\': 303, \\'total_tokens\\': 1828}', additional_kwargs={}, response_metadata={}, id='1e20429b-6c27-4109-a83f-d30d6127f006')]\n",
      "================================\u001b[1m Human Message \u001b[0m=================================\n",
      "\n",
      "hey my name is jay, tell me recent news on quantum computing\n",
      "==================================\u001b[1m Ai Message \u001b[0m==================================\n",
      "\n",
      "[{'title': 'Quantum Computers News - ScienceDaily', 'url': 'https://www.sciencedaily.com/news/computers_math/quantum_computers/', 'content': 'Wednesday, February 19, 2025\\n\\nTuesday, February 18, 2025\\n\\nFriday, February 14, 2025\\n\\nTuesday, February 11, 2025\\n\\nMonday, February 10, 2025\\n\\nFriday, February 7, 2025\\n\\nWednesday, February 5, 2025\\n\\nWednesday, January 29, 2025\\n\\nTuesday, January 28, 2025\\n\\nMonday, January 27, 2025\\n\\nFriday, January 24, 2025\\n\\nThursday, January 23, 2025\\n\\nThursday, January 16, 2025\\n\\nTuesday, January 14, 2025\\n\\nMonday, January 13, 2025\\n\\nThursday, January 9, 2025\\n\\nWednesday, January 8, 2025\\n\\nMonday, January 6, 2025 [...] Thursday, October 31, 2024\\n\\nWednesday, October 30, 2024\\n\\nMonday, October 28, 2024\\n\\nThursday, October 24, 2024\\n\\nThursday, October 17, 2024\\n\\nWednesday, October 16, 2024\\n\\nFriday, October 11, 2024\\n\\nWednesday, October 9, 2024\\n\\nTuesday, October 8, 2024\\n\\nThursday, October 3, 2024\\n\\nTuesday, October 1, 2024\\n\\nMonday, September 30, 2024\\n\\nFriday, September 20, 2024\\n\\nWednesday, September 18, 2024\\n\\nTuesday, September 17, 2024\\n\\nMonday, September 16, 2024\\n\\nFriday, September 13, 2024 [...] Friday, December 20, 2024\\n\\nThursday, December 19, 2024\\n\\nTuesday, December 17, 2024\\n\\nTuesday, December 10, 2024\\n\\nFriday, December 6, 2024\\n\\nWednesday, December 4, 2024\\n\\nMonday, December 2, 2024\\n\\nWednesday, November 27, 2024\\n\\nTuesday, November 26, 2024\\n\\nThursday, November 21, 2024\\n\\nTuesday, November 19, 2024\\n\\nSaturday, November 16, 2024\\n\\nWednesday, November 13, 2024\\n\\nTuesday, November 12, 2024\\n\\nMonday, November 11, 2024\\n\\nTuesday, November 5, 2024\\n\\nMonday, November 4, 2024', 'score': 0.7060491}, {'title': 'Quantum computing news (98% Trump-free) - Shtetl-Optimized', 'url': 'https://scottaaronson.blog/?p=2996', 'content': '(1) Apparently Microsoft has decided to make a major investment in building\\xa0topological quantum computers, which will include hiring Charles Marcus and Matthias Troyer among others. \\xa0See here for their blog post, and here for the New York Times piece. \\xa0In the race to implement\\xa0QC among the established\\xa0corporate labs, Microsoft thus joins the Martinis group at Google, as well as\\xa0the IBM group at T. J. Watson—though both Google and IBM are focused on superconducting\\xa0qubits, rather than the more [...] e.g. http://www.nature.com/nnano/journal/v9/n1/full/nnano.2013.267.html, so one needs to take care that one is not cherry picking for signatures of “Majorana” zero modes. Until some one demonstrates braiding, or maybe even 4pi periodic Josephson current, I will remain a skeptic. [...] (3) As many of you will have seen, my former MIT colleagues, Lior Eldar and Peter Shor, recently posted an arXiv preprint\\xa0claiming a\\xa0bombshell result: namely, a\\xa0polynomial-time quantum algorithm to solve a variant of the Closest Vector Problem in lattices. \\xa0Their claimed algorithm\\xa0wouldn’t yet\\xa0break lattice-based cryptography, but if the approximation factors could be improved, it would be well on the way to doing so. \\xa0This has been one of the most tempting targets for quantum algorithms', 'score': 0.66777676}, {'title': \"Microsoft unveils Majorana 1, the world's first quantum processor ...\", 'url': 'https://azure.microsoft.com/en-us/blog/quantum/2025/02/19/microsoft-unveils-majorana-1-the-worlds-first-quantum-processor-powered-by-topological-qubits/', 'content': 'Missing: hey jay,', 'score': 0.6296157}, {'title': 'Quantum computing | Massachusetts Institute of Technology', 'url': 'https://news.mit.edu/topic/quantum-computing', 'content': 'The work on excitons, originating from ultrathin materials, could impact future electronics and establishes a new way to study these particles through a powerful instrument at the Brookhaven National Laboratory.\\n\\nAugust 1, 2024\\n\\nRead full story →\\n\\nTesting spooky action at a distance\\n\\nA quantum computing research collaboration connects MIT with the University of Copenhagen.\\n\\nJuly 31, 2024\\n\\nRead full story →\\n\\nModular, scalable hardware architecture for a quantum computer [...] A new quantum-system-on-chip enables the efficient control of a large array of qubits, moving toward practical quantum computing.\\n\\nMay 29, 2024\\n\\nRead full story →\\n\\nPhysicists arrange atoms in extremely close proximity\\n\\nThe technique opens possibilities for exploring exotic states of matter and building new quantum materials.\\n\\nMay 2, 2024\\n\\nRead full story →\\n\\nMIT scientists tune the entanglement structure in an array of qubits [...] New work suggests the ability to create fractionalized electrons known as non-Abelian anyons without a magnetic field, opening new possibilities for basic research and future applications.\\n\\nNovember 18, 2024\\n\\nRead full story →\\n\\nQuantum simulator could help uncover materials for high-performance electronics\\n\\nBy emulating a magnetic field on a superconducting quantum computer, researchers can probe complex properties of materials.\\n\\nOctober 30, 2024\\n\\nRead full story →', 'score': 0.6227582}, {'title': 'Google Executive Says Quantum Applications Could Arrive in Five ...', 'url': 'https://thequantuminsider.com/2025/03/26/google-executive-says-quantum-applications-could-arrive-in-five-years/', 'content': 'Missing: hey jay,', 'score': 0.575517}]\n",
      "==================================\u001b[1m Ai Message \u001b[0m==================================\n",
      "\n",
      "content=\"Based on the provided research data, here is a draft answer:\\n\\nThe development of quantum computers has been a rapidly advancing field in recent years. According to the data, there have been numerous breakthroughs and advancements in the field, with several companies and institutions making significant investments in the technology.\\n\\nOne of the most notable developments is the announcement by Microsoft of the world's first quantum processor powered by topological qubits, known as Majorana 1. This breakthrough has the potential to revolutionize the field of quantum computing, as topological qubits are more resistant to errors and can be used to build more powerful and reliable quantum computers.\\n\\nAnother significant development is the work being done by Google, which has been making rapid progress in the development of its quantum computer. According to a recent article, a Google executive has stated that quantum applications could arrive in as little as five years, which would be a significant milestone in the development of the technology.\\n\\nIn addition to these breakthroughs, there have been numerous other advancements in the field, including the development of new quantum algorithms and the creation of more powerful and efficient quantum computers. These advancements have the potential to have a significant impact on a wide range of fields, from medicine and finance to materials science and cryptography.\\n\\nOverall, the data suggests that the development of quantum computers is a rapidly advancing field, with numerous breakthroughs and advancements being made in recent years. As the technology continues to evolve, it is likely to have a significant impact on a wide range of fields and industries.\" additional_kwargs={} response_metadata={'token_usage': {'completion_tokens': 303, 'prompt_tokens': 1525, 'total_tokens': 1828, 'completion_time': 0.2525, 'prompt_time': 0.205261522, 'queue_time': 0.477766373, 'total_time': 0.457761522}, 'model_name': 'llama3-8b-8192', 'system_fingerprint': 'fp_179b0f92c9', 'finish_reason': 'stop', 'logprobs': None} id='run-50f383a3-1321-4277-b2ca-1f2211d0db91-0' usage_metadata={'input_tokens': 1525, 'output_tokens': 303, 'total_tokens': 1828}\n"
     ]
    }
   ],
   "source": [
    "print(messages[\"messages\"])\n",
    "for message in messages[\"messages\"]:\n",
    "  message.pretty_print()"
   ]
  },
  {
   "cell_type": "markdown",
   "metadata": {},
   "source": [
    "#### displaying output in json"
   ]
  },
  {
   "cell_type": "code",
   "execution_count": 10,
   "metadata": {},
   "outputs": [
    {
     "name": "stdout",
     "output_type": "stream",
     "text": [
      "{\n",
      "  \"lc\": 1,\n",
      "  \"type\": \"constructor\",\n",
      "  \"id\": [\n",
      "    \"langchain\",\n",
      "    \"schema\",\n",
      "    \"messages\",\n",
      "    \"AIMessage\"\n",
      "  ],\n",
      "  \"kwargs\": {\n",
      "    \"content\": \"[{'title': 'Quantum Computers News - ScienceDaily', 'url': 'https://www.sciencedaily.com/news/computers_math/quantum_computers/', 'content': 'Wednesday, February 19, 2025\\\\n\\\\nTuesday, February 18, 2025\\\\n\\\\nFriday, February 14, 2025\\\\n\\\\nTuesday, February 11, 2025\\\\n\\\\nMonday, February 10, 2025\\\\n\\\\nFriday, February 7, 2025\\\\n\\\\nWednesday, February 5, 2025\\\\n\\\\nWednesday, January 29, 2025\\\\n\\\\nTuesday, January 28, 2025\\\\n\\\\nMonday, January 27, 2025\\\\n\\\\nFriday, January 24, 2025\\\\n\\\\nThursday, January 23, 2025\\\\n\\\\nThursday, January 16, 2025\\\\n\\\\nTuesday, January 14, 2025\\\\n\\\\nMonday, January 13, 2025\\\\n\\\\nThursday, January 9, 2025\\\\n\\\\nWednesday, January 8, 2025\\\\n\\\\nMonday, January 6, 2025 [...] Thursday, October 31, 2024\\\\n\\\\nWednesday, October 30, 2024\\\\n\\\\nMonday, October 28, 2024\\\\n\\\\nThursday, October 24, 2024\\\\n\\\\nThursday, October 17, 2024\\\\n\\\\nWednesday, October 16, 2024\\\\n\\\\nFriday, October 11, 2024\\\\n\\\\nWednesday, October 9, 2024\\\\n\\\\nTuesday, October 8, 2024\\\\n\\\\nThursday, October 3, 2024\\\\n\\\\nTuesday, October 1, 2024\\\\n\\\\nMonday, September 30, 2024\\\\n\\\\nFriday, September 20, 2024\\\\n\\\\nWednesday, September 18, 2024\\\\n\\\\nTuesday, September 17, 2024\\\\n\\\\nMonday, September 16, 2024\\\\n\\\\nFriday, September 13, 2024 [...] Friday, December 20, 2024\\\\n\\\\nThursday, December 19, 2024\\\\n\\\\nTuesday, December 17, 2024\\\\n\\\\nTuesday, December 10, 2024\\\\n\\\\nFriday, December 6, 2024\\\\n\\\\nWednesday, December 4, 2024\\\\n\\\\nMonday, December 2, 2024\\\\n\\\\nWednesday, November 27, 2024\\\\n\\\\nTuesday, November 26, 2024\\\\n\\\\nThursday, November 21, 2024\\\\n\\\\nTuesday, November 19, 2024\\\\n\\\\nSaturday, November 16, 2024\\\\n\\\\nWednesday, November 13, 2024\\\\n\\\\nTuesday, November 12, 2024\\\\n\\\\nMonday, November 11, 2024\\\\n\\\\nTuesday, November 5, 2024\\\\n\\\\nMonday, November 4, 2024', 'score': 0.7060491}, {'title': 'Quantum computing news (98% Trump-free) - Shtetl-Optimized', 'url': 'https://scottaaronson.blog/?p=2996', 'content': '(1) Apparently Microsoft has decided to make a major investment in building\\\\xa0topological quantum computers, which will include hiring Charles Marcus and Matthias Troyer among others. \\\\xa0See here for their blog post, and here for the New York Times piece. \\\\xa0In the race to implement\\\\xa0QC among the established\\\\xa0corporate labs, Microsoft thus joins the Martinis group at Google, as well as\\\\xa0the IBM group at T. J. Watson—though both Google and IBM are focused on superconducting\\\\xa0qubits, rather than the more [...] e.g. http://www.nature.com/nnano/journal/v9/n1/full/nnano.2013.267.html, so one needs to take care that one is not cherry picking for signatures of “Majorana” zero modes. Until some one demonstrates braiding, or maybe even 4pi periodic Josephson current, I will remain a skeptic. [...] (3) As many of you will have seen, my former MIT colleagues, Lior Eldar and Peter Shor, recently posted an arXiv preprint\\\\xa0claiming a\\\\xa0bombshell result: namely, a\\\\xa0polynomial-time quantum algorithm to solve a variant of the Closest Vector Problem in lattices. \\\\xa0Their claimed algorithm\\\\xa0wouldn’t yet\\\\xa0break lattice-based cryptography, but if the approximation factors could be improved, it would be well on the way to doing so. \\\\xa0This has been one of the most tempting targets for quantum algorithms', 'score': 0.66777676}, {'title': \\\"Microsoft unveils Majorana 1, the world's first quantum processor ...\\\", 'url': 'https://azure.microsoft.com/en-us/blog/quantum/2025/02/19/microsoft-unveils-majorana-1-the-worlds-first-quantum-processor-powered-by-topological-qubits/', 'content': 'Missing: hey jay,', 'score': 0.6296157}, {'title': 'Quantum computing | Massachusetts Institute of Technology', 'url': 'https://news.mit.edu/topic/quantum-computing', 'content': 'The work on excitons, originating from ultrathin materials, could impact future electronics and establishes a new way to study these particles through a powerful instrument at the Brookhaven National Laboratory.\\\\n\\\\nAugust 1, 2024\\\\n\\\\nRead full story →\\\\n\\\\nTesting spooky action at a distance\\\\n\\\\nA quantum computing research collaboration connects MIT with the University of Copenhagen.\\\\n\\\\nJuly 31, 2024\\\\n\\\\nRead full story →\\\\n\\\\nModular, scalable hardware architecture for a quantum computer [...] A new quantum-system-on-chip enables the efficient control of a large array of qubits, moving toward practical quantum computing.\\\\n\\\\nMay 29, 2024\\\\n\\\\nRead full story →\\\\n\\\\nPhysicists arrange atoms in extremely close proximity\\\\n\\\\nThe technique opens possibilities for exploring exotic states of matter and building new quantum materials.\\\\n\\\\nMay 2, 2024\\\\n\\\\nRead full story →\\\\n\\\\nMIT scientists tune the entanglement structure in an array of qubits [...] New work suggests the ability to create fractionalized electrons known as non-Abelian anyons without a magnetic field, opening new possibilities for basic research and future applications.\\\\n\\\\nNovember 18, 2024\\\\n\\\\nRead full story →\\\\n\\\\nQuantum simulator could help uncover materials for high-performance electronics\\\\n\\\\nBy emulating a magnetic field on a superconducting quantum computer, researchers can probe complex properties of materials.\\\\n\\\\nOctober 30, 2024\\\\n\\\\nRead full story →', 'score': 0.6227582}, {'title': 'Google Executive Says Quantum Applications Could Arrive in Five ...', 'url': 'https://thequantuminsider.com/2025/03/26/google-executive-says-quantum-applications-could-arrive-in-five-years/', 'content': 'Missing: hey jay,', 'score': 0.575517}]\",\n",
      "    \"type\": \"ai\",\n",
      "    \"id\": \"6e180c0b-9fe7-4f05-b91a-e0cf20ba93b0\",\n",
      "    \"tool_calls\": [],\n",
      "    \"invalid_tool_calls\": []\n",
      "  }\n",
      "}\n",
      "{\n",
      "  \"Human Message\": \"hey my name is jay, tell me recent news on quantum computing\",\n",
      "  \"research_data\": [\n",
      "    {\n",
      "      \"title\": \"Quantum Computers News - ScienceDaily\",\n",
      "      \"url\": \"https://www.sciencedaily.com/news/computers_math/quantum_computers/\",\n",
      "      \"content\": \"Wednesday, February 19, 2025\\n\\nTuesday, February 18, 2025\\n\\nFriday, February 14, 2025\\n\\nTuesday, February 11, 2025\\n\\nMonday, February 10, 2025\\n\\nFriday, February 7, 2025\\n\\nWednesday, February 5, 2025\\n\\nWednesday, January 29, 2025\\n\\nTuesday, January 28, 2025\\n\\nMonday, January 27, 2025\\n\\nFriday, January 24, 2025\\n\\nThursday, January 23, 2025\\n\\nThursday, January 16, 2025\\n\\nTuesday, January 14, 2025\\n\\nMonday, January 13, 2025\\n\\nThursday, January 9, 2025\\n\\nWednesday, January 8, 2025\\n\\nMonday, January 6, 2025 [...] Thursday, October 31, 2024\\n\\nWednesday, October 30, 2024\\n\\nMonday, October 28, 2024\\n\\nThursday, October 24, 2024\\n\\nThursday, October 17, 2024\\n\\nWednesday, October 16, 2024\\n\\nFriday, October 11, 2024\\n\\nWednesday, October 9, 2024\\n\\nTuesday, October 8, 2024\\n\\nThursday, October 3, 2024\\n\\nTuesday, October 1, 2024\\n\\nMonday, September 30, 2024\\n\\nFriday, September 20, 2024\\n\\nWednesday, September 18, 2024\\n\\nTuesday, September 17, 2024\\n\\nMonday, September 16, 2024\\n\\nFriday, September 13, 2024 [...] Friday, December 20, 2024\\n\\nThursday, December 19, 2024\\n\\nTuesday, December 17, 2024\\n\\nTuesday, December 10, 2024\\n\\nFriday, December 6, 2024\\n\\nWednesday, December 4, 2024\\n\\nMonday, December 2, 2024\\n\\nWednesday, November 27, 2024\\n\\nTuesday, November 26, 2024\\n\\nThursday, November 21, 2024\\n\\nTuesday, November 19, 2024\\n\\nSaturday, November 16, 2024\\n\\nWednesday, November 13, 2024\\n\\nTuesday, November 12, 2024\\n\\nMonday, November 11, 2024\\n\\nTuesday, November 5, 2024\\n\\nMonday, November 4, 2024\",\n",
      "      \"score\": 0.7060491\n",
      "    },\n",
      "    {\n",
      "      \"title\": \"Quantum computing news (98% Trump-free) - Shtetl-Optimized\",\n",
      "      \"url\": \"https://scottaaronson.blog/?p=2996\",\n",
      "      \"content\": \"(1) Apparently Microsoft has decided to make a major investment in building topological quantum computers, which will include hiring Charles Marcus and Matthias Troyer among others.  See here for their blog post, and here for the New York Times piece.  In the race to implement QC among the established corporate labs, Microsoft thus joins the Martinis group at Google, as well as the IBM group at T. J. Watson—though both Google and IBM are focused on superconducting qubits, rather than the more [...] e.g. http://www.nature.com/nnano/journal/v9/n1/full/nnano.2013.267.html, so one needs to take care that one is not cherry picking for signatures of “Majorana” zero modes. Until some one demonstrates braiding, or maybe even 4pi periodic Josephson current, I will remain a skeptic. [...] (3) As many of you will have seen, my former MIT colleagues, Lior Eldar and Peter Shor, recently posted an arXiv preprint claiming a bombshell result: namely, a polynomial-time quantum algorithm to solve a variant of the Closest Vector Problem in lattices.  Their claimed algorithm wouldn’t yet break lattice-based cryptography, but if the approximation factors could be improved, it would be well on the way to doing so.  This has been one of the most tempting targets for quantum algorithms\",\n",
      "      \"score\": 0.66777676\n",
      "    },\n",
      "    {\n",
      "      \"title\": \"Microsoft unveils Majorana 1, the world's first quantum processor ...\",\n",
      "      \"url\": \"https://azure.microsoft.com/en-us/blog/quantum/2025/02/19/microsoft-unveils-majorana-1-the-worlds-first-quantum-processor-powered-by-topological-qubits/\",\n",
      "      \"content\": \"Missing: hey jay,\",\n",
      "      \"score\": 0.6296157\n",
      "    },\n",
      "    {\n",
      "      \"title\": \"Quantum computing | Massachusetts Institute of Technology\",\n",
      "      \"url\": \"https://news.mit.edu/topic/quantum-computing\",\n",
      "      \"content\": \"The work on excitons, originating from ultrathin materials, could impact future electronics and establishes a new way to study these particles through a powerful instrument at the Brookhaven National Laboratory.\\n\\nAugust 1, 2024\\n\\nRead full story →\\n\\nTesting spooky action at a distance\\n\\nA quantum computing research collaboration connects MIT with the University of Copenhagen.\\n\\nJuly 31, 2024\\n\\nRead full story →\\n\\nModular, scalable hardware architecture for a quantum computer [...] A new quantum-system-on-chip enables the efficient control of a large array of qubits, moving toward practical quantum computing.\\n\\nMay 29, 2024\\n\\nRead full story →\\n\\nPhysicists arrange atoms in extremely close proximity\\n\\nThe technique opens possibilities for exploring exotic states of matter and building new quantum materials.\\n\\nMay 2, 2024\\n\\nRead full story →\\n\\nMIT scientists tune the entanglement structure in an array of qubits [...] New work suggests the ability to create fractionalized electrons known as non-Abelian anyons without a magnetic field, opening new possibilities for basic research and future applications.\\n\\nNovember 18, 2024\\n\\nRead full story →\\n\\nQuantum simulator could help uncover materials for high-performance electronics\\n\\nBy emulating a magnetic field on a superconducting quantum computer, researchers can probe complex properties of materials.\\n\\nOctober 30, 2024\\n\\nRead full story →\",\n",
      "      \"score\": 0.6227582\n",
      "    },\n",
      "    {\n",
      "      \"title\": \"Google Executive Says Quantum Applications Could Arrive in Five ...\",\n",
      "      \"url\": \"https://thequantuminsider.com/2025/03/26/google-executive-says-quantum-applications-could-arrive-in-five-years/\",\n",
      "      \"content\": \"Missing: hey jay,\",\n",
      "      \"score\": 0.575517\n",
      "    }\n",
      "  ],\n",
      "  \"answer\": \"content=\\\"Based on the provided research data, here is a draft answer:\\\\n\\\\nThe development of quantum computers has been a rapidly advancing field in recent years. According to the data, there have been numerous breakthroughs and advancements in the field, with several companies and institutions making significant investments in the technology.\\\\n\\\\nOne of the most notable developments is the announcement by Microsoft of the world's first quantum processor powered by topological qubits, known as Majorana 1. This breakthrough has the potential to revolutionize the field of quantum computing, as topological qubits are more resistant to errors and can be used to build more powerful and reliable quantum computers.\\\\n\\\\nAnother significant development is the work being done by Google, which has been making rapid progress in the development of its quantum computer. According to a recent article, a Google executive has stated that quantum applications could arrive in as little as five years, which would be a significant milestone in the development of the technology.\\\\n\\\\nIn addition to these breakthroughs, there have been numerous other advancements in the field, including the development of new quantum algorithms and the creation of more powerful and efficient quantum computers. These advancements have the potential to have a significant impact on a wide range of fields, from medicine and finance to materials science and cryptography.\\\\n\\\\nOverall, the data suggests that the development of quantum computers is a rapidly advancing field, with numerous breakthroughs and advancements being made in recent years. As the technology continues to evolve, it is likely to have a significant impact on a wide range of fields and industries.\\\" additional_kwargs={} response_metadata={'token_usage': {'completion_tokens': 303, 'prompt_tokens': 1525, 'total_tokens': 1828, 'completion_time': 0.2525, 'prompt_time': 0.205261522, 'queue_time': 0.477766373, 'total_time': 0.457761522}, 'model_name': 'llama3-8b-8192', 'system_fingerprint': 'fp_179b0f92c9', 'finish_reason': 'stop', 'logprobs': None} id='run-50f383a3-1321-4277-b2ca-1f2211d0db91-0' usage_metadata={'input_tokens': 1525, 'output_tokens': 303, 'total_tokens': 1828}\"\n",
      "}\n"
     ]
    }
   ],
   "source": [
    "import json\n",
    "import ast\n",
    "\n",
    "# Get the research data message (second message)\n",
    "research_message = messages[\"messages\"][1]\n",
    "research_content = research_message.content\n",
    "# print(research_message.pretty_repr())\n",
    "research = research_message.to_json()\n",
    "print(json.dumps(research, indent=2, ensure_ascii=False))\n",
    "# Use ast.literal_eval to safely parse Python literals\n",
    "try:\n",
    "    # Convert the string representation to actual Python objects\n",
    "    parsed_data = ast.literal_eval(research_content)\n",
    "\n",
    "    # Now create a clean JSON structure\n",
    "    result = {\n",
    "        \"Human Message\": messages[\"messages\"][0].content,\n",
    "        \"research_data\": parsed_data,  # This will be properly nested JSON\n",
    "        \"answer\": messages[\"messages\"][2].content if len(messages[\"messages\"]) > 2 else None\n",
    "    }\n",
    "\n",
    "    # Print as formatted JSON\n",
    "    print(json.dumps(result, indent=2, ensure_ascii=False))\n",
    "\n",
    "except (SyntaxError, ValueError) as e:\n",
    "    print(f\"Error parsing content: {e}\")\n",
    "    # Fallback approach\n",
    "    print(\"Trying alternative method...\")\n",
    "\n",
    "    # Simple string cleanup and manual JSON conversion\n",
    "    clean_content = research_content.replace(\"'\", '\"')\n",
    "    try:\n",
    "        result = {\n",
    "            \"Human Message\": messages[\"messages\"][0].content,\n",
    "            \"research_data\": json.loads(clean_content),\n",
    "            \"answer\": messages[\"messages\"][2].content if len(messages[\"messages\"]) > 2 else None\n",
    "        }\n",
    "        print(json.dumps(result, indent=2, ensure_ascii=False))\n",
    "    except json.JSONDecodeError:\n",
    "        print(\"Could not parse research data as JSON\")"
   ]
  }
 ],
 "metadata": {
  "kernelspec": {
   "display_name": ".venv",
   "language": "python",
   "name": "python3"
  },
  "language_info": {
   "codemirror_mode": {
    "name": "ipython",
    "version": 3
   },
   "file_extension": ".py",
   "mimetype": "text/x-python",
   "name": "python",
   "nbconvert_exporter": "python",
   "pygments_lexer": "ipython3",
   "version": "3.12.10"
  }
 },
 "nbformat": 4,
 "nbformat_minor": 2
}
