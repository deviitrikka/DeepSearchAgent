{
 "cells": [
  {
   "cell_type": "markdown",
   "metadata": {},
   "source": [
    "# Deep Research AI Agentic System\n",
    "    This notebook implements a multi-agent system for deep research with:\n",
    "    1. Research Agent - Focuses on data collection and information gathering\n",
    "    2. Answer Agent - Synthesizes information and drafts coherent answers"
   ]
  },
  {
   "cell_type": "code",
   "execution_count": 1,
   "metadata": {},
   "outputs": [],
   "source": [
    "from langchain_community.tools.tavily_search import TavilySearchResults\n",
    "from langchain_groq import ChatGroq\n",
    "from langgraph.graph import StateGraph, START, END\n",
    "from langgraph.prebuilt import ToolNode\n",
    "from langchain_core.messages import HumanMessage, AnyMessage, AIMessage\n",
    "from typing_extensions import Annotated\n",
    "from langgraph.graph.message import add_messages\n",
    "from typing import TypedDict"
   ]
  },
  {
   "cell_type": "code",
   "execution_count": 2,
   "metadata": {},
   "outputs": [],
   "source": [
    "from dotenv import load_dotenv\n",
    "import os\n",
    "load_dotenv()\n",
    "os.environ[\"TAVILY_API_KEY\"] = os.getenv(\"TAVILY_API_KEY\")\n",
    "os.environ[\"GROQ_API_KEY\"] = os.getenv(\"GROQ_API_KEY\")\n",
    "if os.getenv(\"TAVILY_API_KEY\") is None:\n",
    "    raise ValueError(\"TAVILY_API_KEY is not set\")\n",
    "if os.getenv(\"GROQ_API_KEY\") is None:\n",
    "    raise ValueError(\"GROQ_API_KEY is not set\")\n"
   ]
  },
  {
   "cell_type": "code",
   "execution_count": 3,
   "metadata": {},
   "outputs": [],
   "source": [
    "from langchain_community.tools import ArxivQueryRun, WikipediaQueryRun\n",
    "from langchain_community.utilities import WikipediaAPIWrapper, ArxivAPIWrapper\n",
    "\n",
    "arxiv_wrapper = ArxivAPIWrapper(top_k_results=2, doc_content_chars_max=100)\n",
    "wikipedia_wrapper = WikipediaAPIWrapper(top_k_results=2, doc_content_chars_max=100)\n",
    "\n",
    "arxiv_tool = ArxivQueryRun(api_wrapper=arxiv_wrapper, description=\"Search for papers on a given topic\")\n",
    "wikipedia_tool = WikipediaQueryRun(api_wrapper=wikipedia_wrapper)"
   ]
  },
  {
   "cell_type": "code",
   "execution_count": 4,
   "metadata": {},
   "outputs": [],
   "source": [
    "tavily_tool = TavilySearchResults(max_results=5)\n",
    "llm = ChatGroq(model_name=\"llama3-8b-8192\", temperature=0)\n",
    "tools = [arxiv_tool, wikipedia_tool, tavily_tool]\n",
    "llm_with_tools = llm.bind_tools(tools)"
   ]
  },
  {
   "cell_type": "code",
   "execution_count": 5,
   "metadata": {},
   "outputs": [],
   "source": [
    "# Define agent state\n",
    "class AgentState(TypedDict):\n",
    "    messages: Annotated[list[AnyMessage], add_messages]\n",
    "\n",
    "# Research Agent: Crawls websites for online information\n",
    "def research_agent(state: AgentState):\n",
    "    query_text = state[\"messages\"][-1].content  # Extract text content from message\n",
    "    response = tavily_tool.invoke({\"query\": query_text})  # Fetch data using Tavily\n",
    "\n",
    "    # Ensure the response is wrapped in an AIMessage\n",
    "    return {\"messages\": [AIMessage(content=str(response))]}\n",
    "\n",
    "# Answer Drafting Agent: Processes research data and generates a meaningful response\n",
    "def answer_drafting_agent(state: AgentState):\n",
    "    research_data = state[\"messages\"][-1].content  # Extract text content from message\n",
    "    response = llm.invoke(f\"Draft an answer based on the provided research data: {research_data}\")  # Pass as raw string (not HumanMessage)\n",
    "    return {\"messages\": [AIMessage(content=str(response))]}"
   ]
  },
  {
   "cell_type": "code",
   "execution_count": 6,
   "metadata": {},
   "outputs": [],
   "source": [
    "# Build LangGraph\n",
    "build_graph = StateGraph(AgentState)\n",
    "build_graph.add_node(\"research_agent\", research_agent)\n",
    "build_graph.add_node(\"answer_drafting_agent\", answer_drafting_agent)\n",
    "build_graph.add_node(\"tools\", ToolNode([tavily_tool]))\n",
    "\n",
    "# Define execution flow\n",
    "build_graph.add_edge(START, \"research_agent\")\n",
    "build_graph.add_edge(\"research_agent\", \"answer_drafting_agent\")\n",
    "build_graph.add_edge(\"answer_drafting_agent\", END)\n",
    "\n",
    "graph = build_graph.compile()"
   ]
  },
  {
   "cell_type": "code",
   "execution_count": 7,
   "metadata": {},
   "outputs": [
    {
     "name": "stdout",
     "output_type": "stream",
     "text": [
      "      +-----------+        \n",
      "      | __start__ |        \n",
      "      +-----------+        \n",
      "            *              \n",
      "            *              \n",
      "            *              \n",
      "    +----------------+     \n",
      "    | research_agent |     \n",
      "    +----------------+     \n",
      "            *              \n",
      "            *              \n",
      "            *              \n",
      "+-----------------------+  \n",
      "| answer_drafting_agent |  \n",
      "+-----------------------+  \n",
      "            *              \n",
      "            *              \n",
      "            *              \n",
      "       +---------+         \n",
      "       | __end__ |         \n",
      "       +---------+         \n",
      "None\n"
     ]
    }
   ],
   "source": [
    "print(graph.get_graph().print_ascii())"
   ]
  },
  {
   "cell_type": "code",
   "execution_count": 8,
   "metadata": {},
   "outputs": [
    {
     "name": "stdout",
     "output_type": "stream",
     "text": [
      "[]\n"
     ]
    }
   ],
   "source": [
    "import json\n",
    "from langchain_core.messages import HumanMessage\n",
    "messages = graph.invoke({\"messages\": \"hey my name is jay, tell me recent news on quantum computing\"})\n",
    "for message in messages[\"messages\"]:\n",
    "  message.pretty_print()\n",
    "\n",
    "formatted_messages = []\n",
    "\n",
    "for message in messages[\"messages\"]:\n",
    "    if isinstance(message, AIMessage) and isinstance(message.content, list):\n",
    "        for news in message.content:\n",
    "            formatted_messages.append({\n",
    "                \"title\": news[\"title\"],\n",
    "                \"url\": news[\"url\"],\n",
    "                \"content\": news[\"content\"][:200] + \"...\"  # Truncated for readability\n",
    "            })\n",
    "\n",
    "# Print JSON formatted output\n",
    "print(json.dumps(formatted_messages, indent=4))"
   ]
  },
  {
   "cell_type": "code",
   "execution_count": 15,
   "metadata": {},
   "outputs": [
    {
     "name": "stdout",
     "output_type": "stream",
     "text": [
      "[HumanMessage(content='hey my name is jay, tell me recent news on quantum computing', additional_kwargs={}, response_metadata={}, id='463f92e8-b568-4dfc-b5a4-0c25e7848e85'), AIMessage(content='[{\\'title\\': \\'Quantum Computers News - ScienceDaily\\', \\'url\\': \\'https://www.sciencedaily.com/news/computers_math/quantum_computers/\\', \\'content\\': \\'Wednesday, February 19, 2025\\\\n\\\\nTuesday, February 18, 2025\\\\n\\\\nFriday, February 14, 2025\\\\n\\\\nTuesday, February 11, 2025\\\\n\\\\nMonday, February 10, 2025\\\\n\\\\nFriday, February 7, 2025\\\\n\\\\nWednesday, February 5, 2025\\\\n\\\\nWednesday, January 29, 2025\\\\n\\\\nTuesday, January 28, 2025\\\\n\\\\nMonday, January 27, 2025\\\\n\\\\nFriday, January 24, 2025\\\\n\\\\nThursday, January 23, 2025\\\\n\\\\nThursday, January 16, 2025\\\\n\\\\nTuesday, January 14, 2025\\\\n\\\\nMonday, January 13, 2025\\\\n\\\\nThursday, January 9, 2025\\\\n\\\\nWednesday, January 8, 2025\\\\n\\\\nMonday, January 6, 2025 [...] Thursday, October 31, 2024\\\\n\\\\nWednesday, October 30, 2024\\\\n\\\\nMonday, October 28, 2024\\\\n\\\\nThursday, October 24, 2024\\\\n\\\\nThursday, October 17, 2024\\\\n\\\\nWednesday, October 16, 2024\\\\n\\\\nFriday, October 11, 2024\\\\n\\\\nWednesday, October 9, 2024\\\\n\\\\nTuesday, October 8, 2024\\\\n\\\\nThursday, October 3, 2024\\\\n\\\\nTuesday, October 1, 2024\\\\n\\\\nMonday, September 30, 2024\\\\n\\\\nFriday, September 20, 2024\\\\n\\\\nWednesday, September 18, 2024\\\\n\\\\nTuesday, September 17, 2024\\\\n\\\\nMonday, September 16, 2024\\\\n\\\\nFriday, September 13, 2024 [...] Friday, December 20, 2024\\\\n\\\\nThursday, December 19, 2024\\\\n\\\\nTuesday, December 17, 2024\\\\n\\\\nTuesday, December 10, 2024\\\\n\\\\nFriday, December 6, 2024\\\\n\\\\nWednesday, December 4, 2024\\\\n\\\\nMonday, December 2, 2024\\\\n\\\\nWednesday, November 27, 2024\\\\n\\\\nTuesday, November 26, 2024\\\\n\\\\nThursday, November 21, 2024\\\\n\\\\nTuesday, November 19, 2024\\\\n\\\\nSaturday, November 16, 2024\\\\n\\\\nWednesday, November 13, 2024\\\\n\\\\nTuesday, November 12, 2024\\\\n\\\\nMonday, November 11, 2024\\\\n\\\\nTuesday, November 5, 2024\\\\n\\\\nMonday, November 4, 2024\\', \\'score\\': 0.7060491}, {\\'title\\': \\'The Quantum Insider: Quantum Computing News & Top Stories\\', \\'url\\': \\'https://thequantuminsider.com/\\', \\'content\\': \\'TQI Exclusive: Boeing’s Jay Lowell on Pushing The Boundaries of Quantum Networking And Expanding The Reach of Satellite Technology\\\\n\\\\nQuantum Source Shines a Light Toward Quantum Future\\\\n\\\\nEntrepreneurs Leverage Partnership With SC Quantum, Exploration of Quantum Computing to Build Hedge Fund in South Carolina\\\\n\\\\nCapital Markets News\\\\n\\\\nUbiQD Secures $20 Million in Series B Funding to Scale Quantum Dot Technology [...] Quantum Insider Intelligence\\\\n\\\\nAccelerate your quantum strategy\\\\n\\\\nGain a 360-degree view of the quantum landscape\\\\u2028 to fuel your strategy\\\\n\\\\nTrusted by:\\\\n\\\\nQuantum Computing News\\\\n\\\\nQuantum Network Goes the Distance Using Existing Telecom Infrastructure\\\\n\\\\nIQM to Deploy Poland’s First Superconducting Quantum Computer\\\\n\\\\nD-Wave, Davidson Technologies Near Installation Completion of Alabama’s First On-Site Annealing Quantum Computer\\\\n\\\\nScientists Speed Up the Groundwork Essential for Quantum Computing [...] Quantum Network Goes the Distance Using Existing Telecom Infrastructure\\\\n\\\\nIQM to Deploy Poland’s First Superconducting Quantum Computer\\\\n\\\\nD-Wave, Davidson Technologies Near Installation Completion of Alabama’s First On-Site Annealing Quantum Computer\\\\n\\\\nQuantum Network Goes the Distance Using Existing Telecom Infrastructure\\\\n\\\\nIQM to Deploy Poland’s First Superconducting Quantum Computer\\\\n\\\\nD-Wave, Davidson Technologies Near Installation Completion of Alabama’s First On-Site Annealing Quantum Computer\\', \\'score\\': 0.6796259}, {\\'title\\': \\'Quantum computing news (98% Trump-free) - Shtetl-Optimized\\', \\'url\\': \\'https://scottaaronson.blog/?p=2996\\', \\'content\\': \\'(1) Apparently Microsoft has decided to make a major investment in building\\\\xa0topological quantum computers, which will include hiring Charles Marcus and Matthias Troyer among others. \\\\xa0See here for their blog post, and here for the New York Times piece. \\\\xa0In the race to implement\\\\xa0QC among the established\\\\xa0corporate labs, Microsoft thus joins the Martinis group at Google, as well as\\\\xa0the IBM group at T. J. Watson—though both Google and IBM are focused on superconducting\\\\xa0qubits, rather than the more [...] e.g. http://www.nature.com/nnano/journal/v9/n1/full/nnano.2013.267.html, so one needs to take care that one is not cherry picking for signatures of “Majorana” zero modes. Until some one demonstrates braiding, or maybe even 4pi periodic Josephson current, I will remain a skeptic. [...] (3) As many of you will have seen, my former MIT colleagues, Lior Eldar and Peter Shor, recently posted an arXiv preprint\\\\xa0claiming a\\\\xa0bombshell result: namely, a\\\\xa0polynomial-time quantum algorithm to solve a variant of the Closest Vector Problem in lattices. \\\\xa0Their claimed algorithm\\\\xa0wouldn’t yet\\\\xa0break lattice-based cryptography, but if the approximation factors could be improved, it would be well on the way to doing so. \\\\xa0This has been one of the most tempting targets for quantum algorithms\\', \\'score\\': 0.66777676}, {\\'title\\': \"Microsoft unveils Majorana 1, the world\\'s first quantum processor ...\", \\'url\\': \\'https://azure.microsoft.com/en-us/blog/quantum/2025/02/19/microsoft-unveils-majorana-1-the-worlds-first-quantum-processor-powered-by-topological-qubits/\\', \\'content\\': \\'Missing: hey jay,\\', \\'score\\': 0.6296157}, {\\'title\\': \\'Quantum computing | Massachusetts Institute of Technology\\', \\'url\\': \\'https://news.mit.edu/topic/quantum-computing\\', \\'content\\': \\'The work on excitons, originating from ultrathin materials, could impact future electronics and establishes a new way to study these particles through a powerful instrument at the Brookhaven National Laboratory.\\\\n\\\\nAugust 1, 2024\\\\n\\\\nRead full story →\\\\n\\\\nTesting spooky action at a distance\\\\n\\\\nA quantum computing research collaboration connects MIT with the University of Copenhagen.\\\\n\\\\nJuly 31, 2024\\\\n\\\\nRead full story →\\\\n\\\\nModular, scalable hardware architecture for a quantum computer [...] A new quantum-system-on-chip enables the efficient control of a large array of qubits, moving toward practical quantum computing.\\\\n\\\\nMay 29, 2024\\\\n\\\\nRead full story →\\\\n\\\\nPhysicists arrange atoms in extremely close proximity\\\\n\\\\nThe technique opens possibilities for exploring exotic states of matter and building new quantum materials.\\\\n\\\\nMay 2, 2024\\\\n\\\\nRead full story →\\\\n\\\\nMIT scientists tune the entanglement structure in an array of qubits [...] New work suggests the ability to create fractionalized electrons known as non-Abelian anyons without a magnetic field, opening new possibilities for basic research and future applications.\\\\n\\\\nNovember 18, 2024\\\\n\\\\nRead full story →\\\\n\\\\nQuantum simulator could help uncover materials for high-performance electronics\\\\n\\\\nBy emulating a magnetic field on a superconducting quantum computer, researchers can probe complex properties of materials.\\\\n\\\\nOctober 30, 2024\\\\n\\\\nRead full story →\\', \\'score\\': 0.6227582}]', additional_kwargs={}, response_metadata={}, id='624d222a-bb52-4ee2-ab96-525f727402ab'), AIMessage(content='content=\"Based on the provided research data, here is a draft answer:\\\\n\\\\nQuantum computing has been a rapidly advancing field in recent years, with significant breakthroughs and innovations in various areas. According to the data, there have been numerous developments in quantum computing news, with a focus on topological quantum computers, superconducting qubits, and the implementation of quantum algorithms.\\\\n\\\\nOne notable development is the investment by Microsoft in building topological quantum computers, which will include hiring Charles Marcus and Matthias Troyer among others. This move joins the efforts of other corporate labs, such as Google and IBM, in the race to implement quantum computing.\\\\n\\\\nAnother significant breakthrough is the claimed discovery of a polynomial-time quantum algorithm to solve a variant of the Closest Vector Problem in lattices by Lior Eldar and Peter Shor. This algorithm, if proven, would be a major step forward in the development of quantum computing and could potentially break lattice-based cryptography.\\\\n\\\\nIn addition, there have been advancements in the development of quantum processors, with Microsoft unveiling Majorana 1, the world\\'s first quantum processor powered by topological qubits. This innovation has the potential to revolutionize the field of quantum computing and enable the development of more powerful and efficient quantum computers.\\\\n\\\\nFurthermore, researchers at MIT have made significant progress in the development of quantum computing, including the creation of a new quantum-system-on-chip, the arrangement of atoms in extremely close proximity, and the ability to create fractionalized electrons known as non-Abelian anyons without a magnetic field.\\\\n\\\\nOverall, the data suggests that quantum computing is a rapidly advancing field with significant breakthroughs and innovations in various areas. The developments in topological quantum computers, superconducting qubits, and the implementation of quantum algorithms are likely to have a major impact on the field and potentially lead to the development of more powerful and efficient quantum computers.\" additional_kwargs={} response_metadata={\\'token_usage\\': {\\'completion_tokens\\': 374, \\'prompt_tokens\\': 1778, \\'total_tokens\\': 2152, \\'completion_time\\': 0.311666667, \\'prompt_time\\': 0.413678832, \\'queue_time\\': 0.868918007, \\'total_time\\': 0.725345499}, \\'model_name\\': \\'llama3-8b-8192\\', \\'system_fingerprint\\': \\'fp_179b0f92c9\\', \\'finish_reason\\': \\'stop\\', \\'logprobs\\': None} id=\\'run-ef99d0a4-f32a-4825-9d9d-9c1d69d3c4c6-0\\' usage_metadata={\\'input_tokens\\': 1778, \\'output_tokens\\': 374, \\'total_tokens\\': 2152}', additional_kwargs={}, response_metadata={}, id='5e881333-100a-42a2-ad58-259a49af4bf5')]\n"
     ]
    }
   ],
   "source": [
    "print(messages[\"messages\"])"
   ]
  },
  {
   "cell_type": "code",
   "execution_count": 19,
   "metadata": {},
   "outputs": [
    {
     "name": "stdout",
     "output_type": "stream",
     "text": [
      "Type: HumanMessage\n",
      "Failed to parse content:\n",
      "Content: hey my name is jay, tell me recent news on quantum computing\n",
      "----------------------------------------\n",
      "Type: AIMessage\n",
      "Failed to parse content:\n",
      "Content: [{'title': 'Quantum Computers News - ScienceDaily', 'url': 'https://www.sciencedaily.com/news/computers_math/quantum_computers/', 'content': 'Wednesday, February 19, 2025\\n\\nTuesday, February 18, 2025\\n\\nFriday, February 14, 2025\\n\\nTuesday, February 11, 2025\\n\\nMonday, February 10, 2025\\n\\nFriday, February 7, 2025\\n\\nWednesday, February 5, 2025\\n\\nWednesday, January 29, 2025\\n\\nTuesday, January 28, 2025\\n\\nMonday, January 27, 2025\\n\\nFriday, January 24, 2025\\n\\nThursday, January 23, 2025\\n\\nThursday, January 16, 2025\\n\\nTuesday, January 14, 2025\\n\\nMonday, January 13, 2025\\n\\nThursday, January 9, 2025\\n\\nWednesday, January 8, 2025\\n\\nMonday, January 6, 2025 [...] Thursday, October 31, 2024\\n\\nWednesday, October 30, 2024\\n\\nMonday, October 28, 2024\\n\\nThursday, October 24, 2024\\n\\nThursday, October 17, 2024\\n\\nWednesday, October 16, 2024\\n\\nFriday, October 11, 2024\\n\\nWednesday, October 9, 2024\\n\\nTuesday, October 8, 2024\\n\\nThursday, October 3, 2024\\n\\nTuesday, October 1, 2024\\n\\nMonday, September 30, 2024\\n\\nFriday, September 20, 2024\\n\\nWednesday, September 18, 2024\\n\\nTuesday, September 17, 2024\\n\\nMonday, September 16, 2024\\n\\nFriday, September 13, 2024 [...] Friday, December 20, 2024\\n\\nThursday, December 19, 2024\\n\\nTuesday, December 17, 2024\\n\\nTuesday, December 10, 2024\\n\\nFriday, December 6, 2024\\n\\nWednesday, December 4, 2024\\n\\nMonday, December 2, 2024\\n\\nWednesday, November 27, 2024\\n\\nTuesday, November 26, 2024\\n\\nThursday, November 21, 2024\\n\\nTuesday, November 19, 2024\\n\\nSaturday, November 16, 2024\\n\\nWednesday, November 13, 2024\\n\\nTuesday, November 12, 2024\\n\\nMonday, November 11, 2024\\n\\nTuesday, November 5, 2024\\n\\nMonday, November 4, 2024', 'score': 0.7060491}, {'title': 'The Quantum Insider: Quantum Computing News & Top Stories', 'url': 'https://thequantuminsider.com/', 'content': 'TQI Exclusive: Boeing’s Jay Lowell on Pushing The Boundaries of Quantum Networking And Expanding The Reach of Satellite Technology\\n\\nQuantum Source Shines a Light Toward Quantum Future\\n\\nEntrepreneurs Leverage Partnership With SC Quantum, Exploration of Quantum Computing to Build Hedge Fund in South Carolina\\n\\nCapital Markets News\\n\\nUbiQD Secures $20 Million in Series B Funding to Scale Quantum Dot Technology [...] Quantum Insider Intelligence\\n\\nAccelerate your quantum strategy\\n\\nGain a 360-degree view of the quantum landscape\\u2028 to fuel your strategy\\n\\nTrusted by:\\n\\nQuantum Computing News\\n\\nQuantum Network Goes the Distance Using Existing Telecom Infrastructure\\n\\nIQM to Deploy Poland’s First Superconducting Quantum Computer\\n\\nD-Wave, Davidson Technologies Near Installation Completion of Alabama’s First On-Site Annealing Quantum Computer\\n\\nScientists Speed Up the Groundwork Essential for Quantum Computing [...] Quantum Network Goes the Distance Using Existing Telecom Infrastructure\\n\\nIQM to Deploy Poland’s First Superconducting Quantum Computer\\n\\nD-Wave, Davidson Technologies Near Installation Completion of Alabama’s First On-Site Annealing Quantum Computer\\n\\nQuantum Network Goes the Distance Using Existing Telecom Infrastructure\\n\\nIQM to Deploy Poland’s First Superconducting Quantum Computer\\n\\nD-Wave, Davidson Technologies Near Installation Completion of Alabama’s First On-Site Annealing Quantum Computer', 'score': 0.6796259}, {'title': 'Quantum computing news (98% Trump-free) - Shtetl-Optimized', 'url': 'https://scottaaronson.blog/?p=2996', 'content': '(1) Apparently Microsoft has decided to make a major investment in building\\xa0topological quantum computers, which will include hiring Charles Marcus and Matthias Troyer among others. \\xa0See here for their blog post, and here for the New York Times piece. \\xa0In the race to implement\\xa0QC among the established\\xa0corporate labs, Microsoft thus joins the Martinis group at Google, as well as\\xa0the IBM group at T. J. Watson—though both Google and IBM are focused on superconducting\\xa0qubits, rather than the more [...] e.g. http://www.nature.com/nnano/journal/v9/n1/full/nnano.2013.267.html, so one needs to take care that one is not cherry picking for signatures of “Majorana” zero modes. Until some one demonstrates braiding, or maybe even 4pi periodic Josephson current, I will remain a skeptic. [...] (3) As many of you will have seen, my former MIT colleagues, Lior Eldar and Peter Shor, recently posted an arXiv preprint\\xa0claiming a\\xa0bombshell result: namely, a\\xa0polynomial-time quantum algorithm to solve a variant of the Closest Vector Problem in lattices. \\xa0Their claimed algorithm\\xa0wouldn’t yet\\xa0break lattice-based cryptography, but if the approximation factors could be improved, it would be well on the way to doing so. \\xa0This has been one of the most tempting targets for quantum algorithms', 'score': 0.66777676}, {'title': \"Microsoft unveils Majorana 1, the world's first quantum processor ...\", 'url': 'https://azure.microsoft.com/en-us/blog/quantum/2025/02/19/microsoft-unveils-majorana-1-the-worlds-first-quantum-processor-powered-by-topological-qubits/', 'content': 'Missing: hey jay,', 'score': 0.6296157}, {'title': 'Quantum computing | Massachusetts Institute of Technology', 'url': 'https://news.mit.edu/topic/quantum-computing', 'content': 'The work on excitons, originating from ultrathin materials, could impact future electronics and establishes a new way to study these particles through a powerful instrument at the Brookhaven National Laboratory.\\n\\nAugust 1, 2024\\n\\nRead full story →\\n\\nTesting spooky action at a distance\\n\\nA quantum computing research collaboration connects MIT with the University of Copenhagen.\\n\\nJuly 31, 2024\\n\\nRead full story →\\n\\nModular, scalable hardware architecture for a quantum computer [...] A new quantum-system-on-chip enables the efficient control of a large array of qubits, moving toward practical quantum computing.\\n\\nMay 29, 2024\\n\\nRead full story →\\n\\nPhysicists arrange atoms in extremely close proximity\\n\\nThe technique opens possibilities for exploring exotic states of matter and building new quantum materials.\\n\\nMay 2, 2024\\n\\nRead full story →\\n\\nMIT scientists tune the entanglement structure in an array of qubits [...] New work suggests the ability to create fractionalized electrons known as non-Abelian anyons without a magnetic field, opening new possibilities for basic research and future applications.\\n\\nNovember 18, 2024\\n\\nRead full story →\\n\\nQuantum simulator could help uncover materials for high-performance electronics\\n\\nBy emulating a magnetic field on a superconducting quantum computer, researchers can probe complex properties of materials.\\n\\nOctober 30, 2024\\n\\nRead full story →', 'score': 0.6227582}]\n",
      "----------------------------------------\n",
      "Type: AIMessage\n",
      "Failed to parse content:\n",
      "Content: content=\"Based on the provided research data, here is a draft answer:\\n\\nQuantum computing has been a rapidly advancing field in recent years, with significant breakthroughs and innovations in various areas. According to the data, there have been numerous developments in quantum computing news, with a focus on topological quantum computers, superconducting qubits, and the implementation of quantum algorithms.\\n\\nOne notable development is the investment by Microsoft in building topological quantum computers, which will include hiring Charles Marcus and Matthias Troyer among others. This move joins the efforts of other corporate labs, such as Google and IBM, in the race to implement quantum computing.\\n\\nAnother significant breakthrough is the claimed discovery of a polynomial-time quantum algorithm to solve a variant of the Closest Vector Problem in lattices by Lior Eldar and Peter Shor. This algorithm, if proven, would be a major step forward in the development of quantum computing and could potentially break lattice-based cryptography.\\n\\nIn addition, there have been advancements in the development of quantum processors, with Microsoft unveiling Majorana 1, the world's first quantum processor powered by topological qubits. This innovation has the potential to revolutionize the field of quantum computing and enable the development of more powerful and efficient quantum computers.\\n\\nFurthermore, researchers at MIT have made significant progress in the development of quantum computing, including the creation of a new quantum-system-on-chip, the arrangement of atoms in extremely close proximity, and the ability to create fractionalized electrons known as non-Abelian anyons without a magnetic field.\\n\\nOverall, the data suggests that quantum computing is a rapidly advancing field with significant breakthroughs and innovations in various areas. The developments in topological quantum computers, superconducting qubits, and the implementation of quantum algorithms are likely to have a major impact on the field and potentially lead to the development of more powerful and efficient quantum computers.\" additional_kwargs={} response_metadata={'token_usage': {'completion_tokens': 374, 'prompt_tokens': 1778, 'total_tokens': 2152, 'completion_time': 0.311666667, 'prompt_time': 0.413678832, 'queue_time': 0.868918007, 'total_time': 0.725345499}, 'model_name': 'llama3-8b-8192', 'system_fingerprint': 'fp_179b0f92c9', 'finish_reason': 'stop', 'logprobs': None} id='run-ef99d0a4-f32a-4825-9d9d-9c1d69d3c4c6-0' usage_metadata={'input_tokens': 1778, 'output_tokens': 374, 'total_tokens': 2152}\n",
      "----------------------------------------\n"
     ]
    }
   ],
   "source": [
    "import json\n",
    "\n",
    "for msg in messages[\"messages\"]:\n",
    "    print(f\"Type: {type(msg).__name__}\")\n",
    "\n",
    "    # Attempt to parse content if it's a string representation of a list/dictionary\n",
    "    try:\n",
    "        parsed_content = json.loads(msg.content)\n",
    "    except (json.JSONDecodeError, TypeError):\n",
    "        print(f\"Failed to parse content:\")\n",
    "        parsed_content = msg.content  # Keep it as-is if parsing fails\n",
    "\n",
    "    if isinstance(parsed_content, list):  # If it's a list of dictionaries\n",
    "        for item in parsed_content:\n",
    "            print(json.dumps(item, indent=4))  # Pretty print each dictionary\n",
    "    else:\n",
    "        print(f\"Content: {parsed_content}\")\n",
    "\n",
    "    print(\"-\" * 40)  # Separator for readability"
   ]
  }
 ],
 "metadata": {
  "kernelspec": {
   "display_name": ".venv",
   "language": "python",
   "name": "python3"
  },
  "language_info": {
   "codemirror_mode": {
    "name": "ipython",
    "version": 3
   },
   "file_extension": ".py",
   "mimetype": "text/x-python",
   "name": "python",
   "nbconvert_exporter": "python",
   "pygments_lexer": "ipython3",
   "version": "3.12.10"
  }
 },
 "nbformat": 4,
 "nbformat_minor": 2
}
